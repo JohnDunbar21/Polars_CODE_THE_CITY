{
  "cells": [
    {
      "cell_type": "markdown",
      "metadata": {
        "id": "view-in-github",
        "colab_type": "text"
      },
      "source": [
        "<a href=\"https://colab.research.google.com/github/JohnDunbar21/Polars_CODE_THE_CITY/blob/main/Copy_of_Challenges.ipynb\" target=\"_parent\"><img src=\"https://colab.research.google.com/assets/colab-badge.svg\" alt=\"Open In Colab\"/></a>"
      ]
    },
    {
      "cell_type": "markdown",
      "metadata": {
        "id": "o5iW-g8I-J-V"
      },
      "source": [
        "# APUG 10 May 2023 Challenges\n",
        "## Arturo Regalado\n",
        "## Working with Polars and Pandas\n",
        "\n",
        "In this notebook you will find the challenges for the APUG 10 May 2023 meeting. \n",
        "\n",
        "I have setup the required imports and url for the data. You will be working with the same Pokemon dataset used in the presentation. \n",
        "\n",
        "The format is as follows. I will prompt some questions and you should use polars to retrieve data to answer them. "
      ]
    },
    {
      "cell_type": "code",
      "execution_count": 1,
      "metadata": {
        "id": "FFUg30ka-J-W",
        "outputId": "21ffac5f-ca51-4dc2-9f73-7ee09d81fbd2",
        "colab": {
          "base_uri": "https://localhost:8080/",
          "height": 255
        }
      },
      "outputs": [
        {
          "output_type": "execute_result",
          "data": {
            "text/plain": [
              "shape: (5, 13)\n",
              "┌─────┬───────────────────────┬────────┬────────┬───┬─────────┬───────┬────────────┬───────────┐\n",
              "│ #   ┆ Name                  ┆ Type 1 ┆ Type 2 ┆ … ┆ Sp. Def ┆ Speed ┆ Generation ┆ Legendary │\n",
              "│ --- ┆ ---                   ┆ ---    ┆ ---    ┆   ┆ ---     ┆ ---   ┆ ---        ┆ ---       │\n",
              "│ i64 ┆ str                   ┆ str    ┆ str    ┆   ┆ i64     ┆ i64   ┆ i64        ┆ bool      │\n",
              "╞═════╪═══════════════════════╪════════╪════════╪═══╪═════════╪═══════╪════════════╪═══════════╡\n",
              "│ 1   ┆ Bulbasaur             ┆ Grass  ┆ Poison ┆ … ┆ 65      ┆ 45    ┆ 1          ┆ false     │\n",
              "│ 2   ┆ Ivysaur               ┆ Grass  ┆ Poison ┆ … ┆ 80      ┆ 60    ┆ 1          ┆ false     │\n",
              "│ 3   ┆ Venusaur              ┆ Grass  ┆ Poison ┆ … ┆ 100     ┆ 80    ┆ 1          ┆ false     │\n",
              "│ 3   ┆ VenusaurMega Venusaur ┆ Grass  ┆ Poison ┆ … ┆ 120     ┆ 80    ┆ 1          ┆ false     │\n",
              "│ 4   ┆ Charmander            ┆ Fire   ┆ null   ┆ … ┆ 50      ┆ 65    ┆ 1          ┆ false     │\n",
              "└─────┴───────────────────────┴────────┴────────┴───┴─────────┴───────┴────────────┴───────────┘"
            ],
            "text/html": [
              "<div><style>\n",
              ".dataframe > thead > tr > th,\n",
              ".dataframe > tbody > tr > td {\n",
              "  text-align: right;\n",
              "}\n",
              "</style>\n",
              "<small>shape: (5, 13)</small><table border=\"1\" class=\"dataframe\"><thead><tr><th>#</th><th>Name</th><th>Type 1</th><th>Type 2</th><th>Total</th><th>HP</th><th>Attack</th><th>Defense</th><th>Sp. Atk</th><th>Sp. Def</th><th>Speed</th><th>Generation</th><th>Legendary</th></tr><tr><td>i64</td><td>str</td><td>str</td><td>str</td><td>i64</td><td>i64</td><td>i64</td><td>i64</td><td>i64</td><td>i64</td><td>i64</td><td>i64</td><td>bool</td></tr></thead><tbody><tr><td>1</td><td>&quot;Bulbasaur&quot;</td><td>&quot;Grass&quot;</td><td>&quot;Poison&quot;</td><td>318</td><td>45</td><td>49</td><td>49</td><td>65</td><td>65</td><td>45</td><td>1</td><td>false</td></tr><tr><td>2</td><td>&quot;Ivysaur&quot;</td><td>&quot;Grass&quot;</td><td>&quot;Poison&quot;</td><td>405</td><td>60</td><td>62</td><td>63</td><td>80</td><td>80</td><td>60</td><td>1</td><td>false</td></tr><tr><td>3</td><td>&quot;Venusaur&quot;</td><td>&quot;Grass&quot;</td><td>&quot;Poison&quot;</td><td>525</td><td>80</td><td>82</td><td>83</td><td>100</td><td>100</td><td>80</td><td>1</td><td>false</td></tr><tr><td>3</td><td>&quot;VenusaurMega V…</td><td>&quot;Grass&quot;</td><td>&quot;Poison&quot;</td><td>625</td><td>80</td><td>100</td><td>123</td><td>122</td><td>120</td><td>80</td><td>1</td><td>false</td></tr><tr><td>4</td><td>&quot;Charmander&quot;</td><td>&quot;Fire&quot;</td><td>null</td><td>309</td><td>39</td><td>52</td><td>43</td><td>60</td><td>50</td><td>65</td><td>1</td><td>false</td></tr></tbody></table></div>"
            ]
          },
          "metadata": {},
          "execution_count": 1
        }
      ],
      "source": [
        "# Setup and main data\n",
        "# For polars be sure to pip install polars[\"all\"]\n",
        "import polars as pl\n",
        "import pandas as pd\n",
        "import seaborn as sns\n",
        "\n",
        "url = r\"https://gist.githubusercontent.com/ritchie46/cac6b337ea52281aa23c049250a4ff03/raw/89a957ff3919d90e6ef2d34235e6bf22304f3366/pokemon.csv\"\n",
        "df = pl.read_csv(url)\n",
        "df.head()\n"
      ]
    },
    {
      "cell_type": "markdown",
      "metadata": {
        "id": "g1NcT8Pp-J-X"
      },
      "source": [
        "### Question 1. \n",
        "\n",
        "+ How many grass-type pokemons are there? Which are the top 5 with highest defense? Focus only on column Type 1. \n",
        "\n",
        "Tips: \n",
        "\n",
        "* Use the [filter](https://pola-rs.github.io/polars-book/user-guide/concepts/contexts/#filter) context, [aggregate and then count](https://pola-rs.github.io/polars-book/user-guide/expressions/aggregation/#filtering).\n",
        "\n",
        "* Debug chains step-by-step. The chain should be all inside parenthesis.\n",
        "\n",
        "* The workforce function pl.col() is used to extract a column from a data frame. \n",
        "\n",
        "* Basic steps for beginners:\n",
        "\n",
        "  * Question 1. \n",
        "    * You can do this in one line. \n",
        "      * First filter for Grass-types\n",
        "      * Then groupby \"Type 1\"\n",
        "      * Then apply count. \n",
        "      * The structure is: `df.filter(#something).groupby(#something).count()`\n",
        "      * Look for a similar operation in the Pokemon notebook. \n",
        "  \n",
        "  * Question 2.\n",
        "    * Start by filtering the grass-type pokemons.\n",
        "    * Then select only the name, Type 1 and Defense columns. \n",
        "    * Sort the results from largest to smallest and then show only first 5. "
      ]
    },
    {
      "cell_type": "markdown",
      "metadata": {
        "id": "HwboIelC-J-X"
      },
      "source": []
    },
    {
      "cell_type": "code",
      "execution_count": 3,
      "metadata": {
        "id": "vQ1nzskb-J-Y",
        "colab": {
          "base_uri": "https://localhost:8080/",
          "height": 129
        },
        "outputId": "1f31823c-a503-41b7-9a65-eb5f4f4bfed5"
      },
      "outputs": [
        {
          "output_type": "execute_result",
          "data": {
            "text/plain": [
              "shape: (1, 2)\n",
              "┌────────┬───────┐\n",
              "│ Type 1 ┆ count │\n",
              "│ ---    ┆ ---   │\n",
              "│ str    ┆ u32   │\n",
              "╞════════╪═══════╡\n",
              "│ Grass  ┆ 13    │\n",
              "└────────┴───────┘"
            ],
            "text/html": [
              "<div><style>\n",
              ".dataframe > thead > tr > th,\n",
              ".dataframe > tbody > tr > td {\n",
              "  text-align: right;\n",
              "}\n",
              "</style>\n",
              "<small>shape: (1, 2)</small><table border=\"1\" class=\"dataframe\"><thead><tr><th>Type 1</th><th>count</th></tr><tr><td>str</td><td>u32</td></tr></thead><tbody><tr><td>&quot;Grass&quot;</td><td>13</td></tr></tbody></table></div>"
            ]
          },
          "metadata": {},
          "execution_count": 3
        }
      ],
      "source": [
        "# Question 1.1\n",
        "\n",
        "output = (\n",
        "          df\n",
        "            .filter(pl.col(\"Type 1\") == \"Grass\")\n",
        "            .groupby(\"Type 1\")\n",
        "            .agg(pl.count())\n",
        "          )\n",
        "\n",
        "output"
      ]
    },
    {
      "cell_type": "code",
      "execution_count": 6,
      "metadata": {
        "id": "TgZP8Wsy-J-Y",
        "colab": {
          "base_uri": "https://localhost:8080/",
          "height": 255
        },
        "outputId": "c1380f57-f691-4b7c-e35e-adc3815ddd0b"
      },
      "outputs": [
        {
          "output_type": "execute_result",
          "data": {
            "text/plain": [
              "shape: (5, 3)\n",
              "┌───────────────────────┬────────┬─────────┐\n",
              "│ Name                  ┆ Type 1 ┆ Defense │\n",
              "│ ---                   ┆ ---    ┆ ---     │\n",
              "│ str                   ┆ str    ┆ i64     │\n",
              "╞═══════════════════════╪════════╪═════════╡\n",
              "│ VenusaurMega Venusaur ┆ Grass  ┆ 123     │\n",
              "│ Tangela               ┆ Grass  ┆ 115     │\n",
              "│ Vileplume             ┆ Grass  ┆ 85      │\n",
              "│ Exeggutor             ┆ Grass  ┆ 85      │\n",
              "│ Venusaur              ┆ Grass  ┆ 83      │\n",
              "└───────────────────────┴────────┴─────────┘"
            ],
            "text/html": [
              "<div><style>\n",
              ".dataframe > thead > tr > th,\n",
              ".dataframe > tbody > tr > td {\n",
              "  text-align: right;\n",
              "}\n",
              "</style>\n",
              "<small>shape: (5, 3)</small><table border=\"1\" class=\"dataframe\"><thead><tr><th>Name</th><th>Type 1</th><th>Defense</th></tr><tr><td>str</td><td>str</td><td>i64</td></tr></thead><tbody><tr><td>&quot;VenusaurMega V…</td><td>&quot;Grass&quot;</td><td>123</td></tr><tr><td>&quot;Tangela&quot;</td><td>&quot;Grass&quot;</td><td>115</td></tr><tr><td>&quot;Vileplume&quot;</td><td>&quot;Grass&quot;</td><td>85</td></tr><tr><td>&quot;Exeggutor&quot;</td><td>&quot;Grass&quot;</td><td>85</td></tr><tr><td>&quot;Venusaur&quot;</td><td>&quot;Grass&quot;</td><td>83</td></tr></tbody></table></div>"
            ]
          },
          "metadata": {},
          "execution_count": 6
        }
      ],
      "source": [
        "# Question 1.2\n",
        "\n",
        "output = (\n",
        "          df\n",
        "            .filter(pl.col(\"Type 1\") == \"Grass\")\n",
        "            .select(\n",
        "                pl.col(\"Name\", \"Type 1\", \"Defense\")\n",
        "            )\n",
        "            .sort(\"Defense\", descending=True)\n",
        "        )\n",
        "\n",
        "output.head(5)"
      ]
    },
    {
      "cell_type": "markdown",
      "metadata": {
        "id": "x5xvyNGl-J-Y"
      },
      "source": [
        "### Question 2. \n",
        "\n",
        "+ Between grass, fire and water types, which one has the highest average HP and Attack, and what are their standard deviations?\n",
        "\n",
        "**Bonus points if you make a bar plot of the averages by group**\n",
        "\n",
        "Advise for beginners: break down the steps and implement each one. Think your approach before writing code.\n",
        "\n",
        "This way a large problem becomes more manageable. As a quick help the first step is to filter for the desired types. Then we need to do group calculations with use the [aggregate](https://pola-rs.github.io/polars-book/user-guide/expressions/aggregation/) function. \n",
        "\n",
        "Tips:\n",
        "\n",
        "* As we are trying to filter for more than one type, using the `is_in(array)` method is useful. For example: `df.filter(pl.col(\"Type 1\").is_in([\"Poison\", \"Ice\"]))`\n",
        "* See the [API reference](https://pola-rs.github.io/polars/py-polars/html/reference/dataframe/aggregation.html) to check what is the function for the standard deviation. \n",
        "* To plot you might want to use seaborn.barplot(). This is the link to the [documentation](https://seaborn.pydata.org/generated/seaborn.barplot.html?highlight=barplot#seaborn.barplot). You will need to transform your data into a pandas dataframe in [long format](https://pola-rs.github.io/polars/py-polars/html/reference/dataframe/api/polars.DataFrame.melt.html#polars.DataFrame.melt) using `df.melt`. "
      ]
    },
    {
      "cell_type": "markdown",
      "metadata": {
        "id": "wSgVdGie-J-Y"
      },
      "source": []
    },
    {
      "cell_type": "code",
      "execution_count": 16,
      "metadata": {
        "id": "vATjBW6d-J-Y",
        "colab": {
          "base_uri": "https://localhost:8080/",
          "height": 192
        },
        "outputId": "8ec263ee-d7f9-486f-dd5b-985cd7486bcc"
      },
      "outputs": [
        {
          "output_type": "execute_result",
          "data": {
            "text/plain": [
              "shape: (3, 5)\n",
              "┌────────┬────────────┬───────────┬────────────────┬────────────┐\n",
              "│ Type 1 ┆ Average HP ┆ HP Std    ┆ Average Attack ┆ Attack Std │\n",
              "│ ---    ┆ ---        ┆ ---       ┆ ---            ┆ ---        │\n",
              "│ str    ┆ f64        ┆ f64       ┆ f64            ┆ f64        │\n",
              "╞════════╪════════════╪═══════════╪════════════════╪════════════╡\n",
              "│ Fire   ┆ 65.9       ┆ 16.617216 ┆ 88.6           ┆ 26.563732  │\n",
              "│ Water  ┆ 67.0       ┆ 28.635041 ┆ 74.2           ┆ 29.443074  │\n",
              "│ Grass  ┆ 66.2       ┆ 15.159409 ┆ 72.9           ┆ 21.140252  │\n",
              "└────────┴────────────┴───────────┴────────────────┴────────────┘"
            ],
            "text/html": [
              "<div><style>\n",
              ".dataframe > thead > tr > th,\n",
              ".dataframe > tbody > tr > td {\n",
              "  text-align: right;\n",
              "}\n",
              "</style>\n",
              "<small>shape: (3, 5)</small><table border=\"1\" class=\"dataframe\"><thead><tr><th>Type 1</th><th>Average HP</th><th>HP Std</th><th>Average Attack</th><th>Attack Std</th></tr><tr><td>str</td><td>f64</td><td>f64</td><td>f64</td><td>f64</td></tr></thead><tbody><tr><td>&quot;Fire&quot;</td><td>65.9</td><td>16.617216</td><td>88.6</td><td>26.563732</td></tr><tr><td>&quot;Water&quot;</td><td>67.0</td><td>28.635041</td><td>74.2</td><td>29.443074</td></tr><tr><td>&quot;Grass&quot;</td><td>66.2</td><td>15.159409</td><td>72.9</td><td>21.140252</td></tr></tbody></table></div>"
            ]
          },
          "metadata": {},
          "execution_count": 16
        }
      ],
      "source": [
        "# Question 2.1\n",
        "\n",
        "output = (\n",
        "          df\n",
        "            .filter(pl.col(\"Type 1\").is_in([\"Grass\", \"Fire\", \"Water\"]))\n",
        "            .groupby(\"Type 1\")\n",
        "            .agg([\n",
        "                pl.col(\"HP\").mean().round(1).alias(\"Average HP\"),\n",
        "                pl.col(\"HP\").std().alias(\"HP Std\"),\n",
        "                pl.col(\"Attack\").mean().round(1).alias(\"Average Attack\"),\n",
        "                pl.col(\"Attack\").std().alias(\"Attack Std\")\n",
        "            ])\n",
        "        )\n",
        "\n",
        "output"
      ]
    },
    {
      "cell_type": "code",
      "execution_count": 21,
      "metadata": {
        "id": "XtpHHZc8-J-Z",
        "colab": {
          "base_uri": "https://localhost:8080/",
          "height": 490
        },
        "outputId": "ecd6d74f-7db0-417f-c369-faafac3353ac"
      },
      "outputs": [
        {
          "output_type": "execute_result",
          "data": {
            "text/plain": [
              "Text(0.5, 1.0, 'Average HP and Attack Vs. Type of Pokemon')"
            ]
          },
          "metadata": {},
          "execution_count": 21
        },
        {
          "output_type": "display_data",
          "data": {
            "text/plain": [
              "<Figure size 640x480 with 1 Axes>"
            ],
            "image/png": "[encoded data removed]"
          },
          "metadata": {}
        }
      ],
      "source": [
        "# Question 2.2\n",
        "from matplotlib import pyplot as plt\n",
        "\n",
        "pandas_form = (\n",
        "                output.melt(\n",
        "                    id_vars = \"Type 1\",\n",
        "                    value_vars = [\"Average HP\", \"Average Attack\"],\n",
        "                    variable_name = \"Averages\",\n",
        "                    value_name = \"Value\"\n",
        "                )\n",
        "                .to_pandas()\n",
        "              )\n",
        "\n",
        "sns.barplot(data = pandas_form, y = \"Value\", x = \"Averages\", hue = \"Type 1\", orient = \"v\")\n",
        "plt.title(\"Average HP and Attack Vs. Type of Pokemon\")"
      ]
    },
    {
      "cell_type": "markdown",
      "metadata": {
        "id": "H5P-kMAB-J-Z"
      },
      "source": [
        "### Question 3. \n",
        "\n",
        "+ Are legendary pokemons stronger than regular pokemons?\n",
        "+ Show the stats that lead to your conclusion. \n",
        "\n",
        "Use all the information in the pokemon notebook and in the above questions to figure out an answer to the analysis. "
      ]
    },
    {
      "cell_type": "code",
      "execution_count": 28,
      "metadata": {
        "id": "_vwxVX6P-J-Z",
        "colab": {
          "base_uri": "https://localhost:8080/",
          "height": 490
        },
        "outputId": "2a042b92-aa3a-4dea-9449-6d4d35c939d4"
      },
      "outputs": [
        {
          "output_type": "execute_result",
          "data": {
            "text/plain": [
              "Text(0.5, 1.0, 'Legendary Vs. Standard Pokemon Statistics')"
            ]
          },
          "metadata": {},
          "execution_count": 28
        },
        {
          "output_type": "display_data",
          "data": {
            "text/plain": [
              "<Figure size 640x480 with 1 Axes>"
            ],
            "image/png": "[encoded data removed]"
          },
          "metadata": {}
        }
      ],
      "source": [
        "output = (\n",
        "          df\n",
        "            .with_columns(\n",
        "                pl.when(pl.col(\"Legendary\") == False)\n",
        "                .then(\"Standard\")\n",
        "                .otherwise(\"Legendary\")\n",
        "                .alias(\"Status\")\n",
        "            )\n",
        "            .groupby(\"Status\")\n",
        "            .agg([\n",
        "                pl.col(\"HP\").mean().round(1).alias(\"Avg. HP\"),\n",
        "                pl.col(\"Attack\").mean().round(1).alias(\"Avg. Atk\"),\n",
        "                pl.col(\"Defense\").mean().round(1).alias(\"Avg. Def\"),\n",
        "                pl.col(\"Sp. Atk\").mean().round(1).alias(\"Avg. Sp. Atk\"),\n",
        "                pl.col(\"Sp. Def\").mean().round(1).alias(\"Avg. Sp. Def\"),\n",
        "                pl.col(\"Speed\").mean().round(1).alias(\"Avg. Speed\")\n",
        "            ])\n",
        "          )\n",
        "\n",
        "pandas_form = (\n",
        "                output.melt(\n",
        "                    id_vars = \"Status\",\n",
        "                    value_vars = [\"Avg. HP\", \"Avg. Atk\", \"Avg. Def\", \"Avg. Sp. Atk\", \"Avg. Sp. Def\", \"Avg. Speed\"],\n",
        "                    variable_name = \"Averages\",\n",
        "                    value_name = \"Value\"\n",
        "                )\n",
        "                .to_pandas()\n",
        "          )\n",
        "#output.head(5)\n",
        "sns.barplot(data = pandas_form, y = \"Value\", x = \"Averages\", hue = \"Status\")\n",
        "plt.title(\"Legendary Vs. Standard Pokemon Statistics\")"
      ]
    }
  ],
  "metadata": {
    "kernelspec": {
      "display_name": "venv",
      "language": "python",
      "name": "python3"
    },
    "language_info": {
      "codemirror_mode": {
        "name": "ipython",
        "version": 3
      },
      "file_extension": ".py",
      "mimetype": "text/x-python",
      "name": "python",
      "nbconvert_exporter": "python",
      "pygments_lexer": "ipython3",
      "version": "3.10.11"
    },
    "orig_nbformat": 4,
    "colab": {
      "provenance": [],
      "include_colab_link": true
    }
  },
  "nbformat": 4,
  "nbformat_minor": 0
}